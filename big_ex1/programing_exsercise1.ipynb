{
 "cells": [
  {
   "cell_type": "markdown",
   "id": "57bed2fc-c150-4fe4-b782-f4291004b606",
   "metadata": {
    "tags": []
   },
   "source": [
    "# 各種モジュールの読み込み\n",
    "\n",
    "必要なモジュールを読み込む。\n"
   ]
  },
  {
   "cell_type": "code",
   "execution_count": null,
   "id": "50838db1-1d57-4cb4-9279-6fa7b6a4c293",
   "metadata": {},
   "outputs": [],
   "source": [
    "from sentence_transformers import SentenceTransformer\n",
    "import sklearn\n",
    "from sklearn.metrics import v_measure_score\n",
    "from torch import embedding\n",
    "import torch\n",
    "from sklearn import cluster\n",
    "\n",
    "\n",
    "import json\n",
    "import numpy as np"
   ]
  },
  {
   "cell_type": "markdown",
   "id": "b425640c-ce56-49bd-9140-84f8bd958d75",
   "metadata": {},
   "source": [
    "# Ex.1  Josnの読み込み"
   ]
  },
  {
   "cell_type": "code",
   "execution_count": null,
   "id": "da054ca5-e343-46bf-971b-e284f46919ed",
   "metadata": {},
   "outputs": [],
   "source": [
    "import json\n",
    "import codecs\n",
    "import sentencepiece as spm\n",
    "\n",
    "\n",
    "# load JSON 20newsgroup data\n",
    "with open(\"newsgroups.json\") as fd:\n",
    "    data = json.load(fd)\n",
    "# content, target(=class ID), target_name(=newsgroup name)\n",
    "content = data[\"content\"]\n",
    "target = data[\"target\"]\n",
    "target_names = data[\"target_names\"]\n",
    "# get dictionary values for content, target, and target_names\n",
    "content_value = content.values()\n",
    "target_value = target.values()\n",
    "target_name_value = target_names.values()\n",
    "# extract lists for content, target, and target_names\n",
    "content_value_list = list(content_value)  # メッセージテキスト本体\n",
    "target_value_list = list(target_value)  # メッセージのカテゴリ ID\n",
    "target_namevalue_list = list(target_name_value)\n",
    "num_docs = 11314  # (=len(content.keys())\n"
   ]
  },
  {
   "cell_type": "markdown",
   "id": "189aaddb-4e08-4f88-9c2b-29b9cc5d9258",
   "metadata": {},
   "source": [
    "# Ex.2　文章のEmbedding\n",
    "今回はSentence Transformerを用い、all-MiniLM-L6-v2を用いてembedする。"
   ]
  },
  {
   "cell_type": "code",
   "execution_count": null,
   "id": "ded51bb3-4033-47c5-bd1e-a50e68f7ea1b",
   "metadata": {},
   "outputs": [],
   "source": [
    "model = SentenceTransformer(\"all-MiniLM-L6-v2\")\n",
    "vec_data: np.ndarray = model.encode(content_value_list, convert_to_numpy=True)"
   ]
  },
  {
   "cell_type": "markdown",
   "id": "e08e607d-db82-4fde-bc14-e6fe34246f22",
   "metadata": {},
   "source": [
    "# Ex.3 クラスタリング\n",
    "K-means法を用いてクラスタリング"
   ]
  },
  {
   "cell_type": "code",
   "execution_count": null,
   "id": "936c8096-fdb7-4f01-bd8a-ce7ca2a70f84",
   "metadata": {},
   "outputs": [],
   "source": [
    "# assume fixed‐legth vector data is kept in \"vec_data\"\n",
    "k_means = cluster.KMeans(n_clusters=20)\n",
    "k_means.fit(vec_data)\n",
    "predicted = k_means.predict(vec_data)"
   ]
  },
  {
   "cell_type": "markdown",
   "id": "bab7c3bf-913b-4b83-915b-9d51cb103a6a",
   "metadata": {},
   "source": [
    "# Ex.4-1 \n",
    "purityの値の計算"
   ]
  },
  {
   "cell_type": "code",
   "execution_count": null,
   "id": "b53d153e-d8b5-40bc-9027-009f9018327b",
   "metadata": {},
   "outputs": [],
   "source": [
    "def create_cross_table(truth, predict):\n",
    "    result = [[0] * len(set(truth)) for _ in range(len(set(predict)))]\n",
    "    for p, t in zip(predict, truth):\n",
    "        result[p][t] += 1\n",
    "    return result\n",
    "\n",
    "\n",
    "def purity(CT):\n",
    "    return np.sum(np.max(CT, axis=1)) / np.sum(CT)\n",
    "\n",
    "\n",
    "CT = create_cross_table(target_value_list, predicted)\n",
    "purity_val = purity(CT)\n",
    "print(f\"purity_val{purity_val}\")"
   ]
  },
  {
   "cell_type": "markdown",
   "id": "bb743347-5222-448c-a31c-e645b7c53e03",
   "metadata": {},
   "source": [
    "purity_val0.6439809086088033"
   ]
  },
  {
   "cell_type": "markdown",
   "id": "c780f973-81b9-4887-b284-1a4587553d0f",
   "metadata": {},
   "source": [
    "# Ex.4-2"
   ]
  },
  {
   "cell_type": "code",
   "execution_count": null,
   "id": "7cd62fe3-d64a-41a6-bc7f-f8eda88060fc",
   "metadata": {},
   "outputs": [],
   "source": [
    "print(type(target_name_value), type(predicted))\n",
    "v_measure_val = sklearn.metrics.v_measure_score(list(target_name_value), predicted)\n",
    "print(f\"v_measure_val{v_measure_val}\""
   ]
  },
  {
   "cell_type": "markdown",
   "id": "63644a74-34c5-4d61-8d92-e15df94de0bd",
   "metadata": {},
   "source": [
    "v_measure_val0.6164935268881546"
   ]
  },
  {
   "cell_type": "markdown",
   "id": "293d4534-78ea-4621-932c-a726e7af43fd",
   "metadata": {},
   "source": [
    "# Ex.5 考察\n",
    "PurityとV-measureから想像される 20newsgroup データを選択したクラスタリング手法のもとで、どうして、これらの値に帰着したかの分析、\n",
    "ならびに、入力の 20newsgroup データ（原則 11314 文書）から、今回のプログラム課題で、どこが計算時間的にボトルネックであったかの考察も加えてくれることを期待します。\n",
    "\n"
   ]
  },
  {
   "cell_type": "markdown",
   "id": "87ce6256-fe59-407d-97ac-1fd92e1abe34",
   "metadata": {},
   "source": [
    "\n",
    "K means法は与えられたパラメータkをもとに、k個に分割するようなモデルです。すべての点を総当りして重心を計算するため、重心から近いものがクラスタリンスされる。\n",
    "そのため、楕円形やその他の形の場合、クラスタリングされない場合があるなど、非常に欠点が多く、その結果が評価指標に現れていると考えられる。\n",
    "\n",
    "TF-IDFの場合は非常に小さい値、となったがTF−IDFではクラスタリングをするためのベクトルに変換しきれていない可能性が考えられる。TF-IDFは単語ベースで計算しているので、文章全体を見ることができていない。\n",
    "一方AttentionベースのTransformerである場合、すべての文章を参照してベクトルを生成するため、文章全体を見たベクトルを生成することができる。"
   ]
  },
  {
   "cell_type": "markdown",
   "id": "a5a198e5-0ad8-402d-a810-0403d8503038",
   "metadata": {},
   "source": [
    "プログラムの計算時間的のボトルネックについて、TransformerのモデルでEmbedding　しているため、パラメータが膨大なため、計算量が多くなり、実行時間は１０分〜２０分必要であり、非常に重たかった。"
   ]
  },
  {
   "cell_type": "code",
   "execution_count": null,
   "id": "f54d1747-df4d-476e-9941-4ee5219d8953",
   "metadata": {},
   "outputs": [],
   "source": []
  }
 ],
 "metadata": {
  "kernelspec": {
   "display_name": "test_sagemaker",
   "language": "python",
   "name": "test_sagemaker"
  },
  "language_info": {
   "codemirror_mode": {
    "name": "ipython",
    "version": 3
   },
   "file_extension": ".py",
   "mimetype": "text/x-python",
   "name": "python",
   "nbconvert_exporter": "python",
   "pygments_lexer": "ipython3",
   "version": "3.10.4"
  }
 },
 "nbformat": 4,
 "nbformat_minor": 5
}
